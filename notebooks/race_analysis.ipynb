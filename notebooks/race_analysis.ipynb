{
 "cells": [
  {
   "cell_type": "markdown",
   "metadata": {},
   "source": [
    "# Race analysis\n",
    "\n",
    "### Kyle Willett ([@willettk](https://github.com/willettk))\n",
    "\n",
    "Some time-wasting ways of filtering and sorting my personal data from running races. "
   ]
  },
  {
   "cell_type": "code",
   "execution_count": null,
   "metadata": {},
   "outputs": [],
   "source": [
    "# Get them packages\n",
    "\n",
    "import datetime\n",
    "import re\n",
    "from collections import Counter\n",
    "from operator import itemgetter\n",
    "\n",
    "import pandas as pd\n",
    "import numpy as np\n",
    "\n",
    "from IPython.display import display"
   ]
  },
  {
   "cell_type": "code",
   "execution_count": null,
   "metadata": {},
   "outputs": [],
   "source": [
    "# Running data can be either from live website or local file\n",
    "\n",
    "getLocalData = True\n",
    "localFile = \"/Users/willettk/willettk.github.io/content/racelist.html\"\n",
    "url = \"http://willettk.github.io/racelist.html\"\n",
    "\n",
    "dataIO = localFile if getLocalData else url\n",
    "try:\n",
    "    # Select only data for solo running races; relays, bike races, triathlons are all in separate tables\n",
    "    attrs = {'id': 'runtable'}\n",
    "    races = pd.read_html(dataIO, attrs = attrs)\n",
    "except ValueError:\n",
    "    print(\"Could not find table matching attributes {} on page.\".format(attrs))"
   ]
  },
  {
   "cell_type": "code",
   "execution_count": null,
   "metadata": {},
   "outputs": [],
   "source": [
    "# Pre-process data as pandas DataFrame\n",
    "\n",
    "run = races[0]\n",
    "\n",
    "# Rename columns for some easier typing\n",
    "rc = run.columns\n",
    "run.rename(columns={rc[0]:\"date\",\n",
    "                    rc[1]:\"race\",\n",
    "                    rc[2]:\"location\",\n",
    "                    rc[3]:\"d_km\",\n",
    "                    rc[4]:\"d_mi\",\n",
    "                    rc[5]:\"pace\",\n",
    "                    rc[6]:\"time\",\n",
    "                    rc[7]:\"place_overall\",\n",
    "                    rc[8]:\"finishers_overall\",\n",
    "                    rc[9]:\"place_division\",\n",
    "                    rc[10]:\"finishers_division\",\n",
    "                    rc[11]:\"division\"\n",
    "                   },inplace=True)\n",
    "\n",
    "run_columns = ['date','race','location','time','pace',\n",
    "               'place_overall','finishers_overall',\n",
    "               'place_division','finishers_division']\n",
    "    \n",
    "# Convert to int where possible\n",
    "for col in ('place_overall','finishers_overall','place_division','finishers_division'):\n",
    "    run[col] = run[col].fillna(-1).astype(int)\n",
    "\n",
    "# Ditch races where finishing data is probably inaccurate, based on lack of pace\n",
    "run = run[[False if type(x) == float and np.isnan(x) else True for x in run.pace]]"
   ]
  },
  {
   "cell_type": "code",
   "execution_count": null,
   "metadata": {},
   "outputs": [],
   "source": [
    "def parse_races(dt):\n",
    "\n",
    "    # Transform date, time, and pace into numerical objects\n",
    "    \n",
    "    try:\n",
    "        dt['date'] = pd.to_datetime(dt.date, format='%m/%d/%y')\n",
    "    except AttributeError:\n",
    "        print(dt)\n",
    "    dt['pace'] = [datetime.timedelta(minutes=float(x.split()[0].split(':')[0]),\n",
    "                                         seconds=float(x.split()[0].split(':')[1])) for x in dt.pace]\n",
    "    try:\n",
    "        dt['time'] = [datetime.timedelta(hours=float(x.split(':')[0]),\n",
    "                                         minutes=float(x.split(':')[1]),\n",
    "                                         seconds=float(x.split(':')[2])) for x in dt.time]\n",
    "    except IndexError:\n",
    "        dt['time'] = [datetime.timedelta(minutes=float(x.split(':')[0]),\n",
    "                                     seconds=float(x.split(':')[1])) for x in dt.time]\n",
    "\n",
    "\n",
    "    # Restrict to races with data on overall and division placing\n",
    "\n",
    "    dtf = dt[np.isfinite(dt['finishers_overall']) & np.isfinite(dt['finishers_division'])].copy()\n",
    "    for c in dtf.columns[-4:]:\n",
    "        dtf[c] = dtf[c].astype(int)\n",
    "    \n",
    "    return dt,dtf"
   ]
  },
  {
   "cell_type": "code",
   "execution_count": null,
   "metadata": {},
   "outputs": [],
   "source": [
    "def filter_races(distance=None):\n",
    "\n",
    "    # Filter for races at a given distance (rounded to nearest tenth of a mile)\n",
    "    \n",
    "    if distance != None:\n",
    "        dt = run.copy()[run['d_mi'].round(1) == distance][run_columns]\n",
    "    else:\n",
    "        dt = run.copy()[run_columns]\n",
    "\n",
    "    dt,dtf = parse_races(dt)\n",
    "    \n",
    "    return dt,dtf"
   ]
  },
  {
   "cell_type": "code",
   "execution_count": null,
   "metadata": {},
   "outputs": [],
   "source": [
    "def distinct_places(df):\n",
    "    # Find distinct states/polities for a set of races\n",
    "    return Counter([l.split(\",\")[-1].strip() for l in df.location])"
   ]
  },
  {
   "cell_type": "code",
   "execution_count": null,
   "metadata": {},
   "outputs": [],
   "source": [
    "def more_than_once(df):\n",
    "    # Find races run more than once\n",
    "    c = Counter(df.race)\n",
    "    races,count = [],[]\n",
    "    for r in c:\n",
    "        if c[r] > 1:\n",
    "            races.append(r)\n",
    "            count.append(c[r])\n",
    "    \n",
    "    return pd.DataFrame({'race':races},index=count).sort_index(ascending=False)"
   ]
  },
  {
   "cell_type": "code",
   "execution_count": null,
   "metadata": {},
   "outputs": [],
   "source": [
    "def time_formatting(t,verbose=False):\n",
    "    # Output times in something sensibly human-readable\n",
    "    if t.seconds > 3600:\n",
    "        if verbose:\n",
    "            print(\"Formatting as HH:MM:SS\")\n",
    "        timestr = \"{:.0f}:{:02.0f}:{:02.0f}\".format(int(t.seconds / 3600), int((t.seconds % 3600)/60), t.seconds % 60 )\n",
    "    elif t.seconds > 60:\n",
    "        if verbose:\n",
    "            print(\"Formatting as MM:SS\")\n",
    "        timestr = \"{:.0f}:{:02.0f}\".format(int(t.seconds / 60), t.seconds % 60 )\n",
    "    else:\n",
    "        if verbose:\n",
    "            print(\"Formatting as SS\")\n",
    "        timestr = \"{:.0f}\".format(t.seconds)\n",
    "\n",
    "    return timestr"
   ]
  },
  {
   "cell_type": "code",
   "execution_count": null,
   "metadata": {},
   "outputs": [],
   "source": [
    "def personal_best(df):\n",
    "    # Return personal best time at a given distance\n",
    "    best = df.sort_values(\"time\").reset_index().loc[0]\n",
    "    timestr = time_formatting(best.time)\n",
    "\n",
    "    race = best.race\n",
    "    year = best.date.year\n",
    "    d = {'time':timestr,'race':race,'year':year}\n",
    "    \n",
    "    return d"
   ]
  },
  {
   "cell_type": "code",
   "execution_count": null,
   "metadata": {},
   "outputs": [],
   "source": [
    "def plural_stem(s):\n",
    "    return \"\" if s == 1 else \"s\""
   ]
  },
  {
   "cell_type": "code",
   "execution_count": null,
   "metadata": {},
   "outputs": [],
   "source": [
    "def summarize(distance=None):\n",
    "    \n",
    "    # Print out everything prettily\n",
    "    dt,dtf = filter_races(distance) \n",
    "    n = len(dt)\n",
    "    \n",
    "    placeListRaw = distinct_places(dt).items()\n",
    "    placeList = [(x[0],x[1],len(x[0])) for x in placeListRaw]\n",
    "    for key,reverseOrder in zip((0,2,1),(False,False,True)):\n",
    "        placeList.sort(key=itemgetter(key),reverse=reverseOrder)\n",
    "\n",
    "    polities = re.sub(\"['\\[\\]]\",\"\",str([\"{} ({})\".format(x[0], x[1]) for x in placeList]))\n",
    "    \n",
    "    # Races split by location\n",
    "    \n",
    "    if distance != None:\n",
    "        print(\"\\nI've run {} race{} of {} mile{}.\\n\".format(n, plural_stem(n), distance, plural_stem(distance)))\n",
    "        \n",
    "        if n > 0:\n",
    "            print(\"Personal best: {time}, set at {race} in {year}.\\n\".format(**personal_best(dt)))\n",
    "\n",
    "            print(\"I've run {} mile{} in {}.\\n\".format(distance, plural_stem(distance), polities))\n",
    "        \n",
    "        distanceStr = '{} mile-'.format(distance)\n",
    "        \n",
    "    else:\n",
    "        print(\"I've run races in {}.\\n\".format(polities))\n",
    "        distanceStr = ''\n",
    "        print(\"\\nI've run {} total races.\".format(len(dt)))    \n",
    "    \n",
    "    # Races run more than once\n",
    "\n",
    "    mo = more_than_once(dt)\n",
    "    if len(mo) > 0:\n",
    "        if distance != None:\n",
    "            print(\"\\nRaces of {} mile{} that I've run more than once:\".format(distance, plural_stem(distance)))\n",
    "        else:\n",
    "            print(\"\\nRaces that I've run more than once:\")\n",
    "        display(mo)\n",
    "    else:\n",
    "        print(\"\\nI've never run the same {}race more than once.\".format(distanceStr))\n"
   ]
  },
  {
   "cell_type": "markdown",
   "metadata": {},
   "source": [
    "### For a given distance, summarize:\n",
    "\n",
    "* number of races\n",
    "* locations\n",
    "* personal best\n",
    "* races run more than once"
   ]
  },
  {
   "cell_type": "code",
   "execution_count": null,
   "metadata": {},
   "outputs": [],
   "source": [
    "# Only summarize the N most common distances\n",
    "nd = 6\n",
    "\n",
    "mcd = [round(float(x[0]),1) for x in Counter(run['d_mi']).most_common(nd)]\n",
    "mcd.sort()\n",
    "for d in mcd:\n",
    "    summarize(d)"
   ]
  },
  {
   "cell_type": "code",
   "execution_count": null,
   "metadata": {},
   "outputs": [],
   "source": [
    "# Summarize races over all distances\n",
    "\n",
    "summarize()"
   ]
  },
  {
   "cell_type": "markdown",
   "metadata": {},
   "source": [
    "### How has my personal best for each distance progressed?"
   ]
  },
  {
   "cell_type": "code",
   "execution_count": null,
   "metadata": {},
   "outputs": [],
   "source": [
    "def personal_best_progression(distance=13.1):\n",
    "    \n",
    "    # In ascending chronological order for a given distance,\n",
    "    # print out all races which set or equalled a previous personal best time.\n",
    "    \n",
    "    dt,dtf = filter_races(distance) \n",
    "    n = len(dt)\n",
    "    if n > 0:\n",
    "        firstrace = dt.iloc[0]\n",
    "        best = firstrace.time\n",
    "        bestyear = firstrace.date.year\n",
    "        timestr = time_formatting(firstrace.time)\n",
    "        print(\"Personal best progression of {} miles ({} race{}):\\n\".format(distance,n,plural_stem(n)))\n",
    "        print(\"\\tFirst run {}: {} at {}.\".format(firstrace.date.year,timestr,firstrace.race))\n",
    "        for i in range(n-1):\n",
    "            row = dt.iloc[i+1]\n",
    "            if row.time <= best:\n",
    "                timestr_new = time_formatting(row.time)\n",
    "                print(\"\\tNew PB in {}: {} at {}.\".format(row.date.year,timestr_new,row.race,))\n",
    "                best = row.time\n",
    "    else:\n",
    "        print(\"No races found for distance of {} miles.\".format(distance))\n",
    "\n",
    "    return None"
   ]
  },
  {
   "cell_type": "code",
   "execution_count": null,
   "metadata": {},
   "outputs": [],
   "source": [
    "# Example of progression of personal bests\n",
    "\n",
    "d = 3.1\n",
    "personal_best_progression(d)"
   ]
  },
  {
   "cell_type": "markdown",
   "metadata": {},
   "source": [
    "### How have I done, year over year, in setting personal bests?"
   ]
  },
  {
   "cell_type": "code",
   "execution_count": null,
   "metadata": {},
   "outputs": [],
   "source": [
    "# Only consider PBs at the most common/iconic distances. \n",
    "distances = {\n",
    "    1:\"1 mile\",\n",
    "    3.1:\"5 km\",\n",
    "    6.2:\"10 km\",\n",
    "    13.1:\"half marathon\",\n",
    "    26.2:\"marathon\",\n",
    "}\n",
    "\n",
    "distances_rev = {v:k for k,v in distances.items()}"
   ]
  },
  {
   "cell_type": "code",
   "execution_count": null,
   "metadata": {},
   "outputs": [],
   "source": [
    "# Find range of years of active running\n",
    "pb = {}\n",
    "start_year = pd.to_datetime(run.iloc[0].date, format='%m/%d/%y').year\n",
    "this_year = datetime.datetime.now().year\n",
    "for year in range(start_year,this_year+1):\n",
    "    pb[year] = []\n",
    "\n",
    "# Append if a PB is set for any of the selected distances\n",
    "for distance in distances.keys():\n",
    "    dt,dtf = filter_races(distance) \n",
    "    n = len(dt)\n",
    "    if n > 0:\n",
    "        firstrace = dt.iloc[0]\n",
    "        best = firstrace.time\n",
    "        pb[firstrace.date.year].append(distances[distance])\n",
    "        for i in range(n-1):\n",
    "            row = dt.iloc[i+1]\n",
    "            if row.time <= best:\n",
    "                pb[row.date.year].append(distances[distance])\n",
    "                best = row.time\n",
    "\n",
    "# Print list of results for each year\n",
    "years = sorted(list(pb.keys()))\n",
    "for year in years:\n",
    "    sorted_pbs = sorted(list(set(pb[year])),key = lambda x: distances_rev[x])\n",
    "    print(year, sorted_pbs if len(pb[year]) > 0 else None)"
   ]
  },
  {
   "cell_type": "markdown",
   "metadata": {},
   "source": [
    "2016 was a really good year for me - PRs at four distances, from 1 mile up to the marathon. And I've been lucky to be consistently improving, even well into my 30s; except for my break from running in 2005 and 2006, I've set a PR at one of the standard distances every single year. "
   ]
  },
  {
   "cell_type": "markdown",
   "metadata": {},
   "source": [
    "#### Number of races per year\n",
    "\n",
    "Plot the total number of races per year and label the maximum."
   ]
  },
  {
   "cell_type": "code",
   "execution_count": null,
   "metadata": {},
   "outputs": [],
   "source": [
    "from matplotlib import pyplot as plt\n",
    "import seaborn as sns\n",
    "\n",
    "%matplotlib inline"
   ]
  },
  {
   "cell_type": "code",
   "execution_count": null,
   "metadata": {},
   "outputs": [],
   "source": [
    "def label_max(histobj,ax,title):\n",
    "    counts,yearbins,desc = histobj\n",
    "    argmax = counts.argmax()\n",
    "    ax.text(yearbins[argmax],counts[argmax],\"{:.0f}: {:.0f} {}\".format(yearbins[argmax]+eps,counts[argmax],title)\n",
    "         ,va='bottom'\n",
    "         ,color='red')"
   ]
  },
  {
   "cell_type": "code",
   "execution_count": null,
   "metadata": {},
   "outputs": [],
   "source": [
    "# Number of races per year\n",
    "years = [x.year for x in pd.to_datetime(run.date, format='%m/%d/%y')]\n",
    "\n",
    "# Number of total miles run each year in races\n",
    "z = [(d.year,int(m)) for d,m in zip(pd.to_datetime(run.date, format='%m/%d/%y'),run.d_mi)]\n",
    "l = [[a,]*b for a,b in z]\n",
    "flat_list = [item for sublist in l for item in sublist]\n",
    "\n",
    "# Number of total miles run each year in races\n",
    "z = [(d.year,int(m)) for d,m in zip(pd.to_datetime(run.date, format='%m/%d/%y'),run.d_mi)]\n",
    "l = [[a,]*b for a,b in z]\n",
    "flat_list = [item for sublist in l for item in sublist]\n",
    "\n",
    "fig,axarr = plt.subplots(1,2,figsize=(16,7))\n",
    "eps = 0.5\n",
    "bins = np.arange(min(years)-eps,max(years)+eps+1,1)\n",
    "\n",
    "for ax,data,label in zip(axarr,(years,flat_list),('races','miles')):\n",
    "    histobj = ax.hist(data,bins=bins)\n",
    "    ax.set_xlabel(\"Year\",fontsize=14)\n",
    "    ax.set_ylabel(label.capitalize(),fontsize=14)\n",
    "    label_max(histobj,ax,label);"
   ]
  },
  {
   "cell_type": "markdown",
   "metadata": {},
   "source": [
    "### Total race miles"
   ]
  },
  {
   "cell_type": "code",
   "execution_count": null,
   "metadata": {},
   "outputs": [],
   "source": [
    "print(\"I've run {:.0f} total miles in {:d} races.\".format(run['d_mi'].sum(),len(run)))"
   ]
  },
  {
   "cell_type": "code",
   "execution_count": null,
   "metadata": {},
   "outputs": [],
   "source": [
    "d = 6.2\n",
    "run[run['d_mi'] == d].sort_values([\"d_km\",\"time\",\"date\"],axis=0,ascending=[1,1,0])"
   ]
  },
  {
   "cell_type": "code",
   "execution_count": null,
   "metadata": {},
   "outputs": [],
   "source": []
  }
 ],
 "metadata": {
  "kernelspec": {
   "display_name": "Python 3 (ipykernel)",
   "language": "python",
   "name": "python3"
  },
  "language_info": {
   "codemirror_mode": {
    "name": "ipython",
    "version": 3
   },
   "file_extension": ".py",
   "mimetype": "text/x-python",
   "name": "python",
   "nbconvert_exporter": "python",
   "pygments_lexer": "ipython3",
   "version": "3.11.5"
  }
 },
 "nbformat": 4,
 "nbformat_minor": 4
}
